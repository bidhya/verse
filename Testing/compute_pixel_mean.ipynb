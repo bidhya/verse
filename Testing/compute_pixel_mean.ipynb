{
 "cells": [
  {
   "cell_type": "code",
   "execution_count": 1,
   "id": "ef66be1e-772e-4fe7-80d7-be134d379b9a",
   "metadata": {},
   "outputs": [
    {
     "data": {
      "text/plain": [
       "compute_pixelwise_mean (generic function with 1 method)"
      ]
     },
     "execution_count": 1,
     "metadata": {},
     "output_type": "execute_result"
    }
   ],
   "source": [
    "using NCDatasets\n",
    "using Statistics\n",
    "using Base.Threads\n",
    "\n",
    "function compute_pixelwise_mean(input_path::String, output_path::String, varname::String;\n",
    "    nan_flags = [200, 201, 211, 237, 239, 250, 254, 255])\n",
    "\n",
    "    println(\"Opening input dataset...\")\n",
    "    ds = NCDataset(input_path, \"r\")\n",
    "    data = ds[varname]\n",
    "    size_x, size_y, size_t = size(data)\n",
    "\n",
    "    println(\"Creating output dataset...\")\n",
    "    ds_out = NCDataset(output_path, \"c\")\n",
    "\n",
    "    defDim(ds_out, \"x\", size_x)\n",
    "    defDim(ds_out, \"y\", size_y)\n",
    "    defDim(ds_out, \"time\", 1)\n",
    "\n",
    "    outvar = defVar(ds_out, \"mean_value\", Float32, (\"x\", \"y\", \"time\"); deflatelevel=4)\n",
    "    outvar.attrib[\"units\"] = \"fraction\"\n",
    "\n",
    "    println(\"Beginning threaded pixel processing...\")\n",
    "\n",
    "    # Create a shared output variable\n",
    "    Threads.@threads for j = 1:size_y\n",
    "        row_out = Array{Float32}(undef, size_x)\n",
    "        buf = Array{Float32}(undef, size_t)\n",
    "\n",
    "        for i = 1:size_x\n",
    "            # Handle missing values with NaN fill\n",
    "            buf .= coalesce.(data[i, j, :], NaN32)\n",
    "\n",
    "            nan_count = 0\n",
    "            for k = 1:size_t\n",
    "                val = buf[k]\n",
    "                if val in nan_flags\n",
    "                    nan_count += 1\n",
    "                    buf[k] = (60 <= k <= 210) ? 1.0 : 0.0\n",
    "                else\n",
    "                    buf[k] = val / 100.0\n",
    "                end\n",
    "            end\n",
    "\n",
    "            row_out[i] = (nan_count > 0.75 * size_t) ? NaN32 : mean(buf)\n",
    "        end\n",
    "\n",
    "        # Thread-safe write: one thread per row\n",
    "        outvar[:, j, 1] = row_out\n",
    "\n",
    "        if j % 100 == 0\n",
    "            @info \"Thread $(threadid()): completed row $j / $size_y\"\n",
    "        end\n",
    "    end\n",
    "\n",
    "    close(ds)\n",
    "    close(ds_out)\n",
    "\n",
    "    println(\"All done. Output written to: $output_path\")\n",
    "end\n"
   ]
  },
  {
   "cell_type": "code",
   "execution_count": 2,
   "id": "83fe1168-7de7-458e-9521-368f90663ed1",
   "metadata": {},
   "outputs": [
    {
     "data": {
      "text/plain": [
       "8"
      ]
     },
     "execution_count": 2,
     "metadata": {},
     "output_type": "execute_result"
    }
   ],
   "source": [
    "Threads.nthreads()   # should show >1\n"
   ]
  },
  {
   "cell_type": "code",
   "execution_count": null,
   "id": "4f85634e-1259-493d-86d4-d76fa05e5ca7",
   "metadata": {},
   "outputs": [
    {
     "name": "stdout",
     "output_type": "stream",
     "text": [
      "Opening input dataset...\n",
      "Creating output dataset...\n",
      "Beginning threaded pixel processing...\n"
     ]
    }
   ],
   "source": [
    "compute_pixelwise_mean(\"/Users/jldechow/Documents/Projects/UNC/CoReSSD/SCF.nc\", \"/Users/jldechow/Documents/Projects/UNC/CoReSSD/meanSCF.nc\", \"SCF\")\n"
   ]
  },
  {
   "cell_type": "code",
   "execution_count": null,
   "id": "17dc49dd-b45f-40f0-a266-62886c702072",
   "metadata": {},
   "outputs": [],
   "source": []
  }
 ],
 "metadata": {
  "kernelspec": {
   "display_name": "Julia 1.11.1",
   "language": "julia",
   "name": "julia-1.11"
  },
  "language_info": {
   "file_extension": ".jl",
   "mimetype": "application/julia",
   "name": "julia",
   "version": "1.11.1"
  }
 },
 "nbformat": 4,
 "nbformat_minor": 5
}
