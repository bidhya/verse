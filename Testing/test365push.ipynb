{
 "cells": [
  {
   "cell_type": "code",
   "execution_count": 1,
   "id": "255029c2-1bff-4456-ac0c-225e9669e021",
   "metadata": {},
   "outputs": [],
   "source": [
    "using Logging, LoggingExtras\n",
    "using Tar\n",
    "using DelimitedFiles\n",
    "#using Distributed\n",
    "using Rasters\n",
    "#using DimensionalData\n",
    "using NCDatasets"
   ]
  },
  {
   "cell_type": "code",
   "execution_count": 2,
   "id": "479a7eca-ae42-48c5-8ac4-78cdc8f93658",
   "metadata": {},
   "outputs": [],
   "source": [
    "#import Pkg; Pkg.update(\"NCDatasets\")"
   ]
  },
  {
   "cell_type": "code",
   "execution_count": 3,
   "id": "d61c7b08-66c9-483d-9753-c111e51198d6",
   "metadata": {},
   "outputs": [
    {
     "data": {
      "text/plain": [
       "2251"
      ]
     },
     "execution_count": 3,
     "metadata": {},
     "output_type": "execute_result"
    }
   ],
   "source": [
    "start_idx = \"2250\"  # this is string\n",
    "stop_idx = \"2251\"\n",
    "start_idx = parse(Int64, start_idx)\n",
    "stop_idx = parse(Int64, stop_idx)"
   ]
  },
  {
   "cell_type": "code",
   "execution_count": 20,
   "id": "6587918b-f170-4b66-81a5-de9db73cc871",
   "metadata": {},
   "outputs": [
    {
     "data": {
      "text/plain": [
       "11700×4200×1 Raster{Float32,3}\u001b[33m precip_scalar\u001b[39m\u001b[90m with dimensions: \u001b[39m\n",
       "  \u001b[31mX\u001b[39m Mapped{Float32} \u001b[36mFloat32[-168.995, -168.985, …, -52.015, -52.005]\u001b[39m ForwardOrdered Irregular Points crs: EPSG mappedcrs: EPSG,\n",
       "  \u001b[31mY\u001b[39m Mapped{Float32} \u001b[36mFloat32[30.005, 30.015, …, 71.985, 71.995]\u001b[39m ForwardOrdered Irregular Points crs: EPSG mappedcrs: EPSG,\n",
       "  \u001b[31mTi\u001b[39m Sampled{Dates.DateTime} \u001b[36mDates.DateTime[Dates.DateTime(\"2015-10-01T00:00:00\")]\u001b[39m ForwardOrdered Irregular Points\n",
       "\u001b[90mextent: \u001b[39mExtent(X = (-168.995f0, -52.005f0), Y = (30.005f0, 71.995f0), Ti = (Dates.DateTime(\"2015-10-01T00:00:00\"), Dates.DateTime(\"2015-10-01T00:00:00\")))\u001b[90mcrs: \u001b[39mEPSG:4326\n",
       "\u001b[90mmappedcrs: \u001b[39mEPSG:4326\n",
       "\u001b[90mfrom file:\u001b[39m\n",
       "/Users/jldechow/Documents/Projects/UNC/CoReSSD/fullData/WY16/precip_scalar.nc"
      ]
     },
     "execution_count": 20,
     "metadata": {},
     "output_type": "execute_result"
    },
    {
     "name": "stdout",
     "output_type": "stream",
     "text": [
      "\n"
     ]
    }
   ],
   "source": [
    "DataDir = \"/Users/jldechow/Documents/Projects/UNC/CoReSSD/fullData\"\n",
    "PrecipDir = DataDir\n",
    "water_year = 16\n",
    "\n",
    "files = (\n",
    "    \"$DataDir/WY$(water_year)/SCF.nc\",\n",
    "    \"$DataDir/WY$(water_year)/SWE_tavg.nc\",\n",
    "    #\"$DataDir/WY$(water_year)/precip_scalar.nc\"\n",
    "    )\n",
    "\n",
    "PS = Raster(\"$PrecipDir/WY$(water_year)/precip_scalar.nc\";  name=:precip_scalar, lazy=true)\n"
   ]
  },
  {
   "cell_type": "code",
   "execution_count": 6,
   "id": "fec58f29-4172-4ff1-a48e-07f70796b8b5",
   "metadata": {},
   "outputs": [
    {
     "data": {
      "text/plain": [
       "RasterStack\u001b[90m with dimensions: \u001b[39m\n",
       "  \u001b[31mX\u001b[39m Mapped{Union{Missing, Float32}} \u001b[36mUnion{Missing, Float32}[-168.995, -168.985, …, -52.015, -52.005]\u001b[39m ForwardOrdered Irregular Points crs: EPSG mappedcrs: EPSG,\n",
       "  \u001b[31mY\u001b[39m Mapped{Union{Missing, Float32}} \u001b[36mUnion{Missing, Float32}[30.005, 30.015, …, 71.985, 71.995]\u001b[39m ForwardOrdered Irregular Points crs: EPSG mappedcrs: EPSG,\n",
       "  \u001b[31mTi\u001b[39m Sampled{Dates.DateTime} \u001b[36mDates.DateTime[2015-10-01T00:00:00, …, 2016-09-30T00:00:00]\u001b[39m ForwardOrdered Irregular Points\n",
       "\u001b[90mand \u001b[39m2 layers:\n",
       "\u001b[33m  :SWE_tavg\u001b[39m Union{Missing, UInt16}\u001b[90m dims: \u001b[39m\u001b[31mX\u001b[39m, \u001b[31mY\u001b[39m, \u001b[31mTi\u001b[39m (11700×4200×366)\n",
       "\u001b[33m  :SCF     \u001b[39m Union{Missing, Float32}\u001b[90m dims: \u001b[39m\u001b[31mX\u001b[39m, \u001b[31mY\u001b[39m, \u001b[31mTi\u001b[39m (11700×4200×366)\n"
      ]
     },
     "execution_count": 6,
     "metadata": {},
     "output_type": "execute_result"
    }
   ],
   "source": [
    "A = A[(:SWE_tavg, :SCF )]"
   ]
  },
  {
   "cell_type": "code",
   "execution_count": 7,
   "id": "cadf04d5-37ad-4563-b9a1-991e655e09b6",
   "metadata": {},
   "outputs": [
    {
     "data": {
      "text/plain": [
       "4200"
      ]
     },
     "execution_count": 7,
     "metadata": {},
     "output_type": "execute_result"
    }
   ],
   "source": [
    "szY = size(A, 2)  # get size in Y-dimension; here dim = 2\n",
    "if stop_idx > szY\n",
    "    stop_idx = szY\n",
    "end\n",
    "szY"
   ]
  },
  {
   "cell_type": "code",
   "execution_count": 8,
   "id": "3ae204e0-342a-4227-afd5-83233683e394",
   "metadata": {},
   "outputs": [
    {
     "data": {
      "text/plain": [
       "11700×2×1 Raster{Float32,3}\u001b[33m precip_scalar\u001b[39m\u001b[90m with dimensions: \u001b[39m\n",
       "  \u001b[31mX\u001b[39m Mapped{Float32} \u001b[36mFloat32[-168.995, -168.985, …, -52.015, -52.005]\u001b[39m ForwardOrdered Irregular Points crs: EPSG mappedcrs: EPSG,\n",
       "  \u001b[31mY\u001b[39m Mapped{Float32} \u001b[36mFloat32[52.495f0, 52.505f0]\u001b[39m ForwardOrdered Irregular Points crs: EPSG mappedcrs: EPSG,\n",
       "  \u001b[31mTi\u001b[39m Sampled{Dates.DateTime} \u001b[36mDates.DateTime[Dates.DateTime(\"2015-10-01T00:00:00\")]\u001b[39m ForwardOrdered Irregular Points\n",
       "\u001b[90mextent: \u001b[39mExtent(X = (-168.995f0, -52.005f0), Y = (52.495f0, 52.505f0), Ti = (Dates.DateTime(\"2015-10-01T00:00:00\"), Dates.DateTime(\"2015-10-01T00:00:00\")))\u001b[90mcrs: \u001b[39mEPSG:4326\n",
       "\u001b[90mmappedcrs: \u001b[39mEPSG:4326\n",
       "\u001b[90mparent:\u001b[39m\n",
       "[:, :, 1]\n",
       "            \u001b[90m52.495\u001b[39m   \u001b[90m52.505\u001b[39m\n",
       " \u001b[39m\u001b[90m-168.995\u001b[39m  \u001b[39m\u001b[39mNaN      \u001b[39m\u001b[39mNaN\n",
       " \u001b[39m\u001b[90m-168.985\u001b[39m  \u001b[39m\u001b[39mNaN      \u001b[39m\u001b[39mNaN\n",
       " \u001b[39m\u001b[90m-168.975\u001b[39m  \u001b[39m\u001b[39mNaN      \u001b[39m\u001b[39mNaN\n",
       " \u001b[39m\u001b[90m-168.965\u001b[39m  \u001b[39m\u001b[39mNaN      \u001b[39m\u001b[39mNaN\n",
       " \u001b[39m\u001b[90m-168.955\u001b[39m  \u001b[39m\u001b[39mNaN      \u001b[39m\u001b[39mNaN\n",
       " \u001b[39m\u001b[90m-168.945\u001b[39m  \u001b[39m\u001b[39mNaN      \u001b[39m\u001b[39mNaN\n",
       " \u001b[39m\u001b[90m-168.935\u001b[39m  \u001b[39m\u001b[39mNaN      \u001b[39m\u001b[39mNaN\n",
       "    ⋮               \n",
       "  \u001b[39m\u001b[90m-52.075\u001b[39m  \u001b[39mNaN      \u001b[39mNaN\n",
       "  \u001b[39m\u001b[90m-52.065\u001b[39m  \u001b[39mNaN      \u001b[39mNaN\n",
       "  \u001b[39m\u001b[90m-52.055\u001b[39m  \u001b[39mNaN      \u001b[39mNaN\n",
       "  \u001b[39m\u001b[90m-52.045\u001b[39m  \u001b[39mNaN      \u001b[39mNaN\n",
       "  \u001b[39m\u001b[90m-52.035\u001b[39m  \u001b[39mNaN      \u001b[39mNaN\n",
       "  \u001b[39m\u001b[90m-52.025\u001b[39m  \u001b[39mNaN      \u001b[39mNaN\n",
       "  \u001b[39m\u001b[90m-52.015\u001b[39m  \u001b[39mNaN      \u001b[39mNaN\n",
       "  \u001b[39m\u001b[90m-52.005\u001b[39m  \u001b[39mNaN      \u001b[39mNaN"
      ]
     },
     "execution_count": 8,
     "metadata": {},
     "output_type": "execute_result"
    },
    {
     "name": "stdout",
     "output_type": "stream",
     "text": [
      "\n"
     ]
    }
   ],
   "source": [
    "A = A[X(1:end), Y(start_idx:stop_idx)]\n",
    "PS  = PS[X(1:end), Y(start_idx:stop_idx)]"
   ]
  },
  {
   "cell_type": "code",
   "execution_count": 9,
   "id": "a9b14c6f-8fba-4e65-a407-d06b58720cb5",
   "metadata": {},
   "outputs": [
    {
     "data": {
      "text/plain": [
       "11700×2×366 Array{Float32, 3}:\n",
       "[:, :, 1] =\n",
       " NaN  NaN\n",
       " NaN  NaN\n",
       " NaN  NaN\n",
       " NaN  NaN\n",
       " NaN  NaN\n",
       " NaN  NaN\n",
       " NaN  NaN\n",
       " NaN  NaN\n",
       " NaN  NaN\n",
       " NaN  NaN\n",
       " NaN  NaN\n",
       " NaN  NaN\n",
       " NaN  NaN\n",
       "   ⋮  \n",
       " NaN  NaN\n",
       " NaN  NaN\n",
       " NaN  NaN\n",
       " NaN  NaN\n",
       " NaN  NaN\n",
       " NaN  NaN\n",
       " NaN  NaN\n",
       " NaN  NaN\n",
       " NaN  NaN\n",
       " NaN  NaN\n",
       " NaN  NaN\n",
       " NaN  NaN\n",
       "\n",
       "[:, :, 2] =\n",
       " NaN  NaN\n",
       " NaN  NaN\n",
       " NaN  NaN\n",
       " NaN  NaN\n",
       " NaN  NaN\n",
       " NaN  NaN\n",
       " NaN  NaN\n",
       " NaN  NaN\n",
       " NaN  NaN\n",
       " NaN  NaN\n",
       " NaN  NaN\n",
       " NaN  NaN\n",
       " NaN  NaN\n",
       "   ⋮  \n",
       " NaN  NaN\n",
       " NaN  NaN\n",
       " NaN  NaN\n",
       " NaN  NaN\n",
       " NaN  NaN\n",
       " NaN  NaN\n",
       " NaN  NaN\n",
       " NaN  NaN\n",
       " NaN  NaN\n",
       " NaN  NaN\n",
       " NaN  NaN\n",
       " NaN  NaN\n",
       "\n",
       "[:, :, 3] =\n",
       " NaN  NaN\n",
       " NaN  NaN\n",
       " NaN  NaN\n",
       " NaN  NaN\n",
       " NaN  NaN\n",
       " NaN  NaN\n",
       " NaN  NaN\n",
       " NaN  NaN\n",
       " NaN  NaN\n",
       " NaN  NaN\n",
       " NaN  NaN\n",
       " NaN  NaN\n",
       " NaN  NaN\n",
       "   ⋮  \n",
       " NaN  NaN\n",
       " NaN  NaN\n",
       " NaN  NaN\n",
       " NaN  NaN\n",
       " NaN  NaN\n",
       " NaN  NaN\n",
       " NaN  NaN\n",
       " NaN  NaN\n",
       " NaN  NaN\n",
       " NaN  NaN\n",
       " NaN  NaN\n",
       " NaN  NaN\n",
       "\n",
       ";;; … \n",
       "\n",
       "[:, :, 364] =\n",
       " NaN  NaN\n",
       " NaN  NaN\n",
       " NaN  NaN\n",
       " NaN  NaN\n",
       " NaN  NaN\n",
       " NaN  NaN\n",
       " NaN  NaN\n",
       " NaN  NaN\n",
       " NaN  NaN\n",
       " NaN  NaN\n",
       " NaN  NaN\n",
       " NaN  NaN\n",
       " NaN  NaN\n",
       "   ⋮  \n",
       " NaN  NaN\n",
       " NaN  NaN\n",
       " NaN  NaN\n",
       " NaN  NaN\n",
       " NaN  NaN\n",
       " NaN  NaN\n",
       " NaN  NaN\n",
       " NaN  NaN\n",
       " NaN  NaN\n",
       " NaN  NaN\n",
       " NaN  NaN\n",
       " NaN  NaN\n",
       "\n",
       "[:, :, 365] =\n",
       " NaN  NaN\n",
       " NaN  NaN\n",
       " NaN  NaN\n",
       " NaN  NaN\n",
       " NaN  NaN\n",
       " NaN  NaN\n",
       " NaN  NaN\n",
       " NaN  NaN\n",
       " NaN  NaN\n",
       " NaN  NaN\n",
       " NaN  NaN\n",
       " NaN  NaN\n",
       " NaN  NaN\n",
       "   ⋮  \n",
       " NaN  NaN\n",
       " NaN  NaN\n",
       " NaN  NaN\n",
       " NaN  NaN\n",
       " NaN  NaN\n",
       " NaN  NaN\n",
       " NaN  NaN\n",
       " NaN  NaN\n",
       " NaN  NaN\n",
       " NaN  NaN\n",
       " NaN  NaN\n",
       " NaN  NaN\n",
       "\n",
       "[:, :, 366] =\n",
       " NaN  NaN\n",
       " NaN  NaN\n",
       " NaN  NaN\n",
       " NaN  NaN\n",
       " NaN  NaN\n",
       " NaN  NaN\n",
       " NaN  NaN\n",
       " NaN  NaN\n",
       " NaN  NaN\n",
       " NaN  NaN\n",
       " NaN  NaN\n",
       " NaN  NaN\n",
       " NaN  NaN\n",
       "   ⋮  \n",
       " NaN  NaN\n",
       " NaN  NaN\n",
       " NaN  NaN\n",
       " NaN  NaN\n",
       " NaN  NaN\n",
       " NaN  NaN\n",
       " NaN  NaN\n",
       " NaN  NaN\n",
       " NaN  NaN\n",
       " NaN  NaN\n",
       " NaN  NaN\n",
       " NaN  NaN"
      ]
     },
     "execution_count": 9,
     "metadata": {},
     "output_type": "execute_result"
    }
   ],
   "source": [
    "# r2d can be X×Y or X×Y×1\n",
    "nDayFix = size(A[:SWE_tavg], 3) \n",
    "PS_T = ndims(PS) == 2 ? reshape(PS, size(PS,1), size(PS,2), 1) : PS\n",
    "PS_T = repeat(PS_T, 1, 1, nDayFix)  # X×Y×nt"
   ]
  },
  {
   "cell_type": "code",
   "execution_count": 10,
   "id": "6300b7e9-e9a9-429a-959c-e56638be0e63",
   "metadata": {},
   "outputs": [
    {
     "data": {
      "text/plain": [
       "pixel_series"
      ]
     },
     "execution_count": 10,
     "metadata": {},
     "output_type": "execute_result"
    }
   ],
   "source": [
    "# --- helpers (paste once) ---\n",
    "\n",
    "time_len(A; refvar::Symbol=:SWE_tavg) =\n",
    "    hasdim(A[refvar], Ti) ? size(A[refvar], Ti) : 1\n",
    "\n",
    "\"\"\"\n",
    "Return per-pixel series for `var` at (i,j) from a Raster/RasterStack.\n",
    "If its time length is 1, replicate to match `refvar`'s length (365/366).\n",
    "`scale` applies a unit factor (e.g., 0.01).\n",
    "\"\"\"\n",
    "function pixel_series(src, var_or_none, i::Int, j::Int; refA=nothing, refvar::Symbol=:SWE_tavg, scale::Real=1)\n",
    "    Nt = isnothing(refA) ? 1 : time_len(refA; refvar=refvar)\n",
    "    r  = var_or_none === nothing ? src[X=i, Y=j] : src[var_or_none][X=i, Y=j]\n",
    "    v  = Array(r)\n",
    "    v  = isa(v, Number) ? [v] : v\n",
    "    v  = (length(v) == 1 && Nt > 1) ? fill(v[1], Nt) : v\n",
    "    return scale == 1 ? v : v .* scale\n",
    "end\n",
    "# --- end helpers ---"
   ]
  },
  {
   "cell_type": "code",
   "execution_count": 11,
   "id": "895f939d-0718-412a-b27c-3a983d6c2f38",
   "metadata": {},
   "outputs": [
    {
     "data": {
      "text/plain": [
       "366-element Vector{Float32}:\n",
       " 1.0\n",
       " 1.0\n",
       " 1.0\n",
       " 1.0\n",
       " 1.0\n",
       " 1.0\n",
       " 1.0\n",
       " 1.0\n",
       " 1.0\n",
       " 1.0\n",
       " 1.0\n",
       " 1.0\n",
       " 1.0\n",
       " ⋮\n",
       " 1.0\n",
       " 1.0\n",
       " 1.0\n",
       " 1.0\n",
       " 1.0\n",
       " 1.0\n",
       " 1.0\n",
       " 1.0\n",
       " 1.0\n",
       " 1.0\n",
       " 1.0\n",
       " 1.0"
      ]
     },
     "execution_count": 11,
     "metadata": {},
     "output_type": "execute_result"
    }
   ],
   "source": [
    "i = 8002; j = 1;\n",
    "\n",
    "\n",
    "WRFSWE = A[:SWE_tavg][X=i, Y=j].data ./ 1000\n",
    "#WRFP   = A[:Snowf_tavg][X=i, Y=j].data ./ 1000\n",
    "#WRFG   = A[:Qg_tavg][X=i, Y=j].data\n",
    "#AirT   = A[:Tair_f_tavg][X=i, Y=j].data ./ 100\n",
    "MSCF   = A[:SCF][X=i, Y=j].data\n",
    "\n",
    "# Get precip_scalar robustly (replicates to match SWE_tavg’s time length, incl. leap years)\n",
    "PSval  = pixel_series(PS, nothing, i, j; refA=A, refvar=:SWE_tavg)  # no scale assumed"
   ]
  },
  {
   "cell_type": "code",
   "execution_count": 12,
   "id": "bb3f4108-8c65-456d-b094-6d0e32bec4eb",
   "metadata": {},
   "outputs": [
    {
     "data": {
      "text/plain": [
       "0.8344f0"
      ]
     },
     "execution_count": 12,
     "metadata": {},
     "output_type": "execute_result"
    }
   ],
   "source": [
    "MSCF[183]"
   ]
  },
  {
   "cell_type": "code",
   "execution_count": 13,
   "id": "aaad0057-51bd-4966-8347-2e2a553bd608",
   "metadata": {},
   "outputs": [
    {
     "data": {
      "text/plain": [
       "1.0f0"
      ]
     },
     "execution_count": 13,
     "metadata": {},
     "output_type": "execute_result"
    }
   ],
   "source": [
    "PSval[183]"
   ]
  },
  {
   "cell_type": "code",
   "execution_count": 14,
   "id": "ba628e0e-d9b4-4956-975a-a6960263a07e",
   "metadata": {},
   "outputs": [
    {
     "data": {
      "text/plain": [
       "366-element Vector{Float32}:\n",
       " 1.0\n",
       " 1.0\n",
       " 1.0\n",
       " 1.0\n",
       " 1.0\n",
       " 1.0\n",
       " 1.0\n",
       " 1.0\n",
       " 1.0\n",
       " 1.0\n",
       " 1.0\n",
       " 1.0\n",
       " 1.0\n",
       " ⋮\n",
       " 1.0\n",
       " 1.0\n",
       " 1.0\n",
       " 1.0\n",
       " 1.0\n",
       " 1.0\n",
       " 1.0\n",
       " 1.0\n",
       " 1.0\n",
       " 1.0\n",
       " 1.0\n",
       " 1.0"
      ]
     },
     "execution_count": 14,
     "metadata": {},
     "output_type": "execute_result"
    }
   ],
   "source": [
    "PS_T[i,j,1:nDayFix]"
   ]
  },
  {
   "cell_type": "code",
   "execution_count": 15,
   "id": "0fa669a3-90f7-4087-92f9-7db7ea225306",
   "metadata": {},
   "outputs": [
    {
     "data": {
      "text/plain": [
       "1×6 Matrix{Float64}:\n",
       " NaN  0.0  0.0  0.0  0.0  0.0"
      ]
     },
     "execution_count": 15,
     "metadata": {},
     "output_type": "execute_result"
    }
   ],
   "source": [
    "x = [ NaN 0 0 0 0 0 ]"
   ]
  },
  {
   "cell_type": "code",
   "execution_count": 16,
   "id": "8c1fe846-3ea5-42d1-975e-d36aae8ea15b",
   "metadata": {},
   "outputs": [
    {
     "data": {
      "text/plain": [
       "1×6 Matrix{Float64}:\n",
       " 1.0  1.0  1.0  1.0  1.0  1.0"
      ]
     },
     "execution_count": 16,
     "metadata": {},
     "output_type": "execute_result"
    }
   ],
   "source": [
    "isnan(first(x)) && (x .= 1)"
   ]
  },
  {
   "cell_type": "code",
   "execution_count": 17,
   "id": "9bdc96e3-b02f-4531-963d-ee9af25b3a7a",
   "metadata": {},
   "outputs": [
    {
     "data": {
      "text/plain": [
       "false"
      ]
     },
     "execution_count": 17,
     "metadata": {},
     "output_type": "execute_result"
    }
   ],
   "source": [
    "\n",
    "isnan(first(x)) && (x .= 1)\n",
    "# x == [1.0, 1.0, 1.0]\n"
   ]
  },
  {
   "cell_type": "code",
   "execution_count": 18,
   "id": "bff0f191-5e52-4316-8f2f-7282dabe2a31",
   "metadata": {},
   "outputs": [
    {
     "data": {
      "text/plain": [
       "3-element Vector{Float64}:\n",
       " 1.0\n",
       " 1.0\n",
       " 1.0"
      ]
     },
     "execution_count": 18,
     "metadata": {},
     "output_type": "execute_result"
    }
   ],
   "source": [
    "x = [NaN, 2, 3]\n",
    "if isnan(first(x))\n",
    "       x.=1;\n",
    "end"
   ]
  },
  {
   "cell_type": "code",
   "execution_count": null,
   "id": "5ec5a122-a1ae-4854-a236-6cb03acb1fcc",
   "metadata": {},
   "outputs": [],
   "source": []
  }
 ],
 "metadata": {
  "kernelspec": {
   "display_name": "Julia 1.11.1",
   "language": "julia",
   "name": "julia-1.11"
  },
  "language_info": {
   "file_extension": ".jl",
   "mimetype": "application/julia",
   "name": "julia",
   "version": "1.11.1"
  }
 },
 "nbformat": 4,
 "nbformat_minor": 5
}
